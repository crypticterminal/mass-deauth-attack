{
 "cells": [
  {
   "cell_type": "code",
   "execution_count": null,
   "metadata": {
    "collapsed": false
   },
   "outputs": [],
   "source": [
    "from scapy.all import *"
   ]
  },
  {
   "cell_type": "code",
   "execution_count": null,
   "metadata": {
    "collapsed": false
   },
   "outputs": [],
   "source": [
    "def keep_sniffing(pckt):\n",
    "    return False\n",
    "def add_network(pckt, known_networks):\n",
    "    if not pckt.haslayer(Dot11):\n",
    "        print(pckt.summary())\n",
    "    try:\n",
    "        bssid = pckt[Dot11].addr3\n",
    "        channel = int(ord(pckt[Dot11Elt:3].info))\n",
    "        if bssid not in known_networks:\n",
    "            known_networks[bssid] = (channel,pckt)\n",
    "            print(bssid+\" \"+str(channel))\n",
    "    except IndexError:\n",
    "        pckt.summary()\n",
    "    except TypeError:\n",
    "        pckt.summary()\n",
    "    \n",
    "network = {}"
   ]
  },
  {
   "cell_type": "code",
   "execution_count": null,
   "metadata": {
    "collapsed": false,
    "scrolled": true
   },
   "outputs": [],
   "source": [
    "s = sniff(iface='mon0', lfilter=lambda x: (x.haslayer(Dot11Beacon) or x.haslayer(Dot11ProbeResp)), stop_filter=keep_sniffing, prn=lambda x:add_network(x, network))"
   ]
  },
  {
   "cell_type": "code",
   "execution_count": null,
   "metadata": {
    "collapsed": false
   },
   "outputs": [],
   "source": [
    "i = 0\n",
    "for item in network:\n",
    "    i = i+1\n",
    "    print(i, item, network[item][1].summary())"
   ]
  },
  {
   "cell_type": "code",
   "execution_count": null,
   "metadata": {
    "collapsed": false
   },
   "outputs": [],
   "source": [
    "network['dc:51:eb:0f:0e:fd'][1].show()"
   ]
  },
  {
   "cell_type": "code",
   "execution_count": null,
   "metadata": {
    "collapsed": true
   },
   "outputs": [],
   "source": []
  }
 ],
 "metadata": {
  "kernelspec": {
   "display_name": "Python 2",
   "language": "python",
   "name": "python2"
  },
  "language_info": {
   "codemirror_mode": {
    "name": "ipython",
    "version": 2
   },
   "file_extension": ".py",
   "mimetype": "text/x-python",
   "name": "python",
   "nbconvert_exporter": "python",
   "pygments_lexer": "ipython2",
   "version": "2.7.6"
  }
 },
 "nbformat": 4,
 "nbformat_minor": 0
}
