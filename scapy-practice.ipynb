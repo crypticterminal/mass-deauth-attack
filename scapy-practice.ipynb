{
 "cells": [
  {
   "cell_type": "code",
   "execution_count": null,
   "metadata": {
    "collapsed": false
   },
   "outputs": [],
   "source": [
    "from scapy.all import *\n",
    "from gevent.queue import Queue\n",
    "import time, threading, gevent, signal, random"
   ]
  },
  {
   "cell_type": "code",
   "execution_count": null,
   "metadata": {
    "collapsed": false
   },
   "outputs": [],
   "source": [
    "def keep_sniffing(pckt):\n",
    "    return False\n",
    "def old_add_network(pckt, known_networks):\n",
    "    if not pckt.haslayer(Dot11):\n",
    "        print(pckt.summary())\n",
    "    try:\n",
    "        bssid = pckt[Dot11].addr3\n",
    "        channel = int(ord(pckt[Dot11Elt:3].info))\n",
    "        if bssid not in known_networks:\n",
    "            known_networks[bssid] = (channel,pckt)\n",
    "            print(bssid+\" \"+str(channel))\n",
    "    except IndexError:\n",
    "        pckt.summary()\n",
    "    except TypeError:\n",
    "        pckt.summary()\n",
    "\n"
   ]
  },
  {
   "cell_type": "code",
   "execution_count": null,
   "metadata": {
    "collapsed": true
   },
   "outputs": [],
   "source": [
    "network = {}"
   ]
  },
  {
   "cell_type": "code",
   "execution_count": null,
   "metadata": {
    "collapsed": false,
    "scrolled": true
   },
   "outputs": [],
   "source": [
    "def sniff_thread():\n",
    "        sniff(iface='mon0', lfilter=lambda x: (x.haslayer(Dot11Beacon) or x.haslayer(Dot11ProbeResp)), stop_filter=keep_sniffing, prn=lambda x:add_network(x, network))\n",
    "    "
   ]
  },
  {
   "cell_type": "code",
   "execution_count": null,
   "metadata": {
    "collapsed": true
   },
   "outputs": [],
   "source": [
    "t = threading.Thread(target=sniff_thread)\n",
    "t.setDaemon(True)\n",
    "t.start()\n",
    "time.sleep(5)\n",
    "global stop_sniff\n",
    "stop_sniff = False"
   ]
  },
  {
   "cell_type": "code",
   "execution_count": null,
   "metadata": {
    "collapsed": false,
    "scrolled": true
   },
   "outputs": [],
   "source": [
    "i = 0\n",
    "for item in network:\n",
    "    i = i+1\n",
    "    print(network[item][1].summary())"
   ]
  },
  {
   "cell_type": "code",
   "execution_count": null,
   "metadata": {
    "collapsed": false
   },
   "outputs": [],
   "source": [
    "t.is_alive()"
   ]
  },
  {
   "cell_type": "code",
   "execution_count": null,
   "metadata": {
    "collapsed": false
   },
   "outputs": [],
   "source": [
    "sniff_thread()"
   ]
  },
  {
   "cell_type": "code",
   "execution_count": null,
   "metadata": {
    "collapsed": false
   },
   "outputs": [],
   "source": [
    "def quick_sniff(q):\n",
    "    while True:\n",
    "        sniff(iface='mon0', lfilter=lambda x: (x.haslayer(Dot11) and x[Dot11].type==2), count=20, timeout=0.5, prn=lambda x:q.put(x))\n",
    "        gevent.sleep(1)\n",
    "\n",
    "def add_network(q, known_networks):\n",
    "    while True:\n",
    "        if not q.empty():\n",
    "            _add_network(q.get(), known_networks)\n",
    "        gevent.sleep(0)\n",
    "        \n",
    "def _add_network(pckt, known_networks):\n",
    "    if not pckt.haslayer(Dot11):\n",
    "        pass\n",
    "    try:\n",
    "        bssid = pckt[Dot11].addr3\n",
    "        if bssid not in known_networks:\n",
    "            known_networks[bssid] = (None,pckt)\n",
    "    except (IndexError, TypeError):\n",
    "        pass\n",
    "\n",
    "def switch_channel():\n",
    "    channels = range(1,13)\n",
    "    while True:\n",
    "        random.shuffle(channels)\n",
    "        for channel in channels:\n",
    "            print('changing channel to '+str(channel))\n",
    "            subprocess.Popen(['iwconfig', 'mon0', 'channel', str(channel)])\n",
    "            gevent.sleep(0.5)"
   ]
  },
  {
   "cell_type": "code",
   "execution_count": null,
   "metadata": {
    "collapsed": false
   },
   "outputs": [],
   "source": [
    "network = {}\n",
    "q = Queue()\n",
    "t1 = gevent.spawn(quick_sniff, q)\n",
    "t2 = gevent.spawn(add_network, q, network)\n",
    "t3 = gevent.spawn(switch_channel)\n",
    "ts = [t1, t2]\n",
    "gevent.signal(signal.SIGINT, gevent.killall, ts)\n",
    "gevent.joinall(ts, timeout=30)\n",
    "print(\"--- END ---\")"
   ]
  },
  {
   "cell_type": "code",
   "execution_count": null,
   "metadata": {
    "collapsed": false
   },
   "outputs": [],
   "source": [
    "[(bssid,network[bssid][0], network[bssid][1].summary()) for bssid in network]"
   ]
  },
  {
   "cell_type": "code",
   "execution_count": null,
   "metadata": {
    "collapsed": false
   },
   "outputs": [],
   "source": [
    "mac = '00:30:18:ab:89:38'\n",
    "network[mac][1].show()"
   ]
  },
  {
   "cell_type": "code",
   "execution_count": null,
   "metadata": {
    "collapsed": false
   },
   "outputs": [],
   "source": [
    "x = network[mac][1][Dot11]"
   ]
  },
  {
   "cell_type": "code",
   "execution_count": null,
   "metadata": {
    "collapsed": false
   },
   "outputs": [],
   "source": [
    "y = x.FCfield"
   ]
  },
  {
   "cell_type": "code",
   "execution_count": null,
   "metadata": {
    "collapsed": false
   },
   "outputs": [],
   "source": [
    "y & 0x3 == 0x3"
   ]
  },
  {
   "cell_type": "code",
   "execution_count": null,
   "metadata": {
    "collapsed": false
   },
   "outputs": [],
   "source": [
    "def packet_dispatch(ppckt):\n",
    "    ffx = ppckt[Dot11].FCfield & 0x3\n",
    "    if ffx ^ 0x2 == 0x0:\n",
    "        packet_10(ppckt)\n",
    "    elif ffx ^ 0x1 == 0x0:\n",
    "        packet_01(ppckt)\n",
    "    elif ffx ^ 0x0 == 0x0:\n",
    "        packet_00(ppckt)\n",
    "\n",
    "def packet_10(ppckt1):\n",
    "    bssid1 = ppckt1[Dot11].addr2\n",
    "    client1 = ppckt1[Dot11].addr1\n",
    "    print(bssid1, client1)\n",
    "\n",
    "def packet_01(ppckt2):\n",
    "    bssid2 = ppckt2[Dot11].addr1\n",
    "    client2 = ppckt2[Dot11].addr2\n",
    "    print(bssid2, client2)\n",
    "    \n",
    "def packet_00(ppckt3):\n",
    "    bssid3 = ppckt3[Dot11].addr3\n",
    "    client3 = ppckt3[Dot11].addr2\n",
    "    print(bssid3, client3)"
   ]
  },
  {
   "cell_type": "code",
   "execution_count": null,
   "metadata": {
    "collapsed": false,
    "scrolled": false
   },
   "outputs": [],
   "source": [
    "for b in network:\n",
    "    packet_dispatch(network[b][1])"
   ]
  },
  {
   "cell_type": "code",
   "execution_count": null,
   "metadata": {
    "collapsed": false
   },
   "outputs": [],
   "source": [
    "network['18:1b:eb:0f:4e:51'][1][Dot11].addr3"
   ]
  },
  {
   "cell_type": "code",
   "execution_count": null,
   "metadata": {
    "collapsed": false
   },
   "outputs": [],
   "source": [
    "packet_dispatch(network['00:03:52:b0:22:f0'][1])"
   ]
  },
  {
   "cell_type": "code",
   "execution_count": null,
   "metadata": {
    "collapsed": true
   },
   "outputs": [],
   "source": []
  }
 ],
 "metadata": {
  "kernelspec": {
   "display_name": "Python 2",
   "language": "python",
   "name": "python2"
  },
  "language_info": {
   "codemirror_mode": {
    "name": "ipython",
    "version": 2
   },
   "file_extension": ".py",
   "mimetype": "text/x-python",
   "name": "python",
   "nbconvert_exporter": "python",
   "pygments_lexer": "ipython2",
   "version": "2.7.6"
  }
 },
 "nbformat": 4,
 "nbformat_minor": 0
}
